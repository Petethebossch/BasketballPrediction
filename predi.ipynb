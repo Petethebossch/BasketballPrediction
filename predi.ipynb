{
 "cells": [
  {
   "cell_type": "code",
   "execution_count": 30,
   "metadata": {},
   "outputs": [
    {
     "name": "stdout",
     "output_type": "stream",
     "text": [
      "['d/MNCAATourneyDetailedResults.csv', 'd/MRegularSeasonDetailedResults.csv', 'd/Cities.csv', 'd/Conferences.csv']\n",
      "[[-1.63395168 -1.20517432  1.24436284 ... -0.26403585 -1.44943718\n",
      "   0.76168084]\n",
      " [-1.63395168 -0.73264603 -1.76796056 ...  1.61248318  0.01882386\n",
      "  -0.89273085]\n",
      " [-1.63395168 -0.73264603 -1.75821194 ... -1.38994727  0.99766455\n",
      "  -0.18369727]\n",
      " ...\n",
      " [ 1.73834027  3.04758031 -0.50064004 ... -1.01464346 -1.44943718\n",
      "  -1.83810897]\n",
      " [ 1.73834027  3.04758031  0.20126056 ...  0.48657176  0.5082442\n",
      "  -0.18369727]\n",
      " [ 1.73834027  3.5201086  -0.50064004 ... -1.38994727  1.48708489\n",
      "  -1.36541991]]\n"
     ]
    }
   ],
   "source": [
    "import pandas as pd\n",
    "import os\n",
    "import chardet\n",
    "import numpy as np\n",
    "import glob\n",
    "from sklearn.metrics import classification_report, confusion_matrix, roc_auc_score, make_scorer, precision_score, recall_score, log_loss, mean_squared_error, brier_score_loss\n",
    "import xgboost as xgb\n",
    "from xgboost import XGBClassifier, plot_importance\n",
    "from sklearn.preprocessing import StandardScaler, MinMaxScaler, RobustScaler\n",
    "\n",
    "\n",
    "# Define the path where your CSV files are located\n",
    "csv_path = \"d/*.csv\"\n",
    "\n",
    "# Get a list of all CSV file paths matching the pattern\n",
    "csv_files = glob.glob(csv_path)\n",
    "# Initialize an empty dictionary to store the DataFrames\n",
    "dataframes = {}\n",
    "print(csv_files)\n",
    "detailed = pd.read_csv('d/MNCAATourneyDetailedResults.csv')\n",
    "detailed = detailed.drop(['WLoc'], axis= 1)\n",
    "WFGM = detailed[['WFGM']]\n",
    "from sklearn.feature_selection import VarianceThreshold\n",
    "scaler = StandardScaler()\n",
    "scaler.fit(detailed)\n",
    "print(scaler.transform(detailed))\n"
   ]
  }
 ],
 "metadata": {
  "kernelspec": {
   "display_name": "base",
   "language": "python",
   "name": "python3"
  },
  "language_info": {
   "codemirror_mode": {
    "name": "ipython",
    "version": 3
   },
   "file_extension": ".py",
   "mimetype": "text/x-python",
   "name": "python",
   "nbconvert_exporter": "python",
   "pygments_lexer": "ipython3",
   "version": "3.10.9"
  },
  "orig_nbformat": 4
 },
 "nbformat": 4,
 "nbformat_minor": 2
}
